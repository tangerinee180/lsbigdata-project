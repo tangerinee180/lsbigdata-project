{
  "cells": [
    {
      "cell_type": "markdown",
      "metadata": {},
      "source": [
        "---\n",
        "title: \"Untitled\"\n",
        "format: html\n",
        "editor: visual\n",
        "jupyter: python3\n",
        "---\n",
        "\n",
        "\n",
        "## 빈도 막대 그래프 그리기\n",
        "\n",
        "## seaborn 패키지 불러오기\n"
      ],
      "id": "9a5aab85"
    },
    {
      "cell_type": "code",
      "metadata": {},
      "source": [
        "import seaborn as sns"
      ],
      "id": "eb6e8899",
      "execution_count": null,
      "outputs": []
    },
    {
      "cell_type": "markdown",
      "metadata": {},
      "source": [
        "## 데이터 전처리하기\n"
      ],
      "id": "5cd36568"
    },
    {
      "cell_type": "code",
      "metadata": {},
      "source": [
        "mpg = pd.read_csv('data/mpg.csv')\n",
        "df_mpg = mpg.groupby(\"drv\",as_index=False)\\\n",
        "            .agg(mean_hwy=(\"hwy\",'mean'))"
      ],
      "id": "13cdaa48",
      "execution_count": null,
      "outputs": []
    },
    {
      "cell_type": "markdown",
      "metadata": {},
      "source": [
        "### barplot  사용하기\n"
      ],
      "id": "ac9d145b"
    },
    {
      "cell_type": "code",
      "metadata": {},
      "source": [
        "sns.barplot(data = df_mpg,x = \"drv\",y=\"mean_hwy\",\\\n",
        "hue =\"drv\")\n",
        "plt.show()\n",
        "plt.clf()"
      ],
      "id": "0ca00e55",
      "execution_count": null,
      "outputs": []
    },
    {
      "cell_type": "markdown",
      "metadata": {},
      "source": [
        "## countplot 사용하기\n"
      ],
      "id": "fad9209c"
    },
    {
      "cell_type": "code",
      "metadata": {},
      "source": [
        "sns.countplot(data=df_mpg,x=\"drv\",\\\n",
        "order = mpg[\"drv\"]).value_counts.index()"
      ],
      "id": "b7eb37b0",
      "execution_count": null,
      "outputs": []
    },
    {
      "cell_type": "markdown",
      "metadata": {},
      "source": [
        "The `echo: false` option disables the printing of code (only output is displayed).\n",
        "\n",
        "## Scatter 사용하기\n"
      ],
      "id": "83b8ede2"
    },
    {
      "cell_type": "code",
      "metadata": {},
      "source": [
        "px.scatter(data_frame=mpg,\\\n",
        "           x=\"displ\",y=\"hwy\",color=\"drv\").set(xlim=[3,6],ylim=[10,30])"
      ],
      "id": "4b4512c8",
      "execution_count": null,
      "outputs": []
    }
  ],
  "metadata": {
    "kernelspec": {
      "display_name": "Python 3",
      "language": "python",
      "name": "python3"
    }
  },
  "nbformat": 4,
  "nbformat_minor": 5
}